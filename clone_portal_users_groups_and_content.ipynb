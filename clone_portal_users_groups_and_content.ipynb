{
 "cells": [
  {
   "cell_type": "markdown",
   "metadata": {},
   "source": [
    "# Clone Portal users, groups and content\n",
    "\n",
    "This sample notebook can be used for cloning a portal, from say, a staging to a production environment. It clones the users, groups and the content. It does not copy over services though, and works at the tier of portal items.\n",
    "\n",
    "**Note**: To user this notebook as a Python script, checkout the accompanying [SDK GitHub](https://github.com/Esri/arcgis-python-api) repository. Running this as a script from a Python IDE allows you to set breakpoints, debug and inspect the script when an exception is raised."
   ]
  },
  {
   "cell_type": "code",
   "execution_count": 1,
   "metadata": {},
   "outputs": [],
   "source": [
    "from arcgis.gis import GIS\n",
    "from IPython.display import display"
   ]
  },
  {
   "cell_type": "markdown",
   "metadata": {},
   "source": [
    "## Define the source and target portals\n",
    "To start with, define the source and target portals. Connect to them using accounts with administrative privileges:"
   ]
  },
  {
   "cell_type": "code",
   "execution_count": 2,
   "metadata": {},
   "outputs": [],
   "source": [
    "source = GIS(\"https://ec2-52-53-176-137.us-west-1.compute.amazonaws.com/portal\", \"James_Jones\", \"changeme0!\", verify_cert=False)\n",
    "\n",
    "target = GIS(\"https://usgspod.esri.com/portal\", \"portaladmin\", \"gis12345\")\n",
    "target_admin_username = 'portaladmin'"
   ]
  },
  {
   "cell_type": "markdown",
   "metadata": {},
   "source": [
    "# Users\n",
    "List the users in the source and target portals. We do not want to copy over system accounts since those would be available in the target portal as well. Hence, filter the search by negating any account that starts with 'esri_'. We also do not want to copy over the [initial administrator account](http://server.arcgis.com/en/portal/latest/administer/linux/about-the-initial-administrator-account.htm) as one would be present in the target as well. Hence, negate the account that starts with `admin` which happens to be the administrator account on source portal."
   ]
  },
  {
   "cell_type": "code",
   "execution_count": 3,
   "metadata": {},
   "outputs": [
    {
     "name": "stdout",
     "output_type": "stream",
     "text": [
      "astauffer\t:\torg_user\n",
      "bob648@esri.com\t:\torg_admin\n",
      "cdufault\t:\torg_admin\n",
      "chri5464@esri.com\t:\torg_admin\n",
      "cloveman\t:\torg_admin\n",
      "daryl_smith\t:\torg_publisher\n",
      "dcribbs\t:\torg_publisher\n",
      "eguido\t:\torg_user\n",
      "emccartney\t:\torg_publisher\n",
      "gdmatthews\t:\torg_publisher\n",
      "geor5599\t:\torg_admin\n",
      "hlestinsky\t:\torg_user\n",
      "James_Jones\t:\torg_admin\n",
      "jawamboldt\t:\torg_user\n",
      "jere5888@esri.com\t:\torg_user\n",
      "jjkosovich\t:\torg_publisher\n",
      "jmirmelstein\t:\torg_admin\n",
      "jmoore\t:\torg_admin\n",
      "jose3913@esri.com\t:\torg_admin\n",
      "jose6588\t:\torg_admin\n",
      "jose6588@esri.com\t:\torg_admin\n",
      "jproctor\t:\torg_user\n",
      "jxornelas\t:\torg_user\n",
      "kafishburn\t:\torg_user\n",
      "kcraun\t:\torg_publisher\n",
      "kgallagher\t:\torg_user\n",
      "KHocutt\t:\torg_admin\n",
      "lhansmann\t:\torg_user\n",
      "lmoore\t:\torg_user\n",
      "lrdavis\t:\torg_user\n",
      "luci9322@esri.com\t:\torg_publisher\n",
      "mberra\t:\torg_admin\n",
      "mgabriel\t:\torg_user\n",
      "mtischler\t:\torg_publisher\n",
      "NMayer\t:\torg_admin\n",
      "paul6271@esri.com\t:\torg_user\n",
      "ravi8273@esri.com\t:\torg_admin\n",
      "rdollison\t:\torg_publisher\n",
      "rpostolovski\t:\torg_user\n",
      "ryan8810@esri.com\t:\torg_publisher\n",
      "sbankston\t:\torg_user\n",
      "sboyer\t:\torg_user\n",
      "step8383@esri.com\t:\torg_publisher\n",
      "Stephen.Zahniser\t:\torg_user\n",
      "sudhirshrestha\t:\torg_user\n",
      "swebinger\t:\torg_user\n",
      "syeleswarapu\t:\torg_user\n",
      "tlauver\t:\torg_publisher\n",
      "wmarken\t:\torg_user\n"
     ]
    }
   ],
   "source": [
    "#!esri_ & !admin\n",
    "source_users = source.users.search('!esri_ & !admin')\n",
    "for user in source_users:\n",
    "    print(user.username + \"\\t:\\t\" + str(user.role))"
   ]
  },
  {
   "cell_type": "markdown",
   "metadata": {},
   "source": [
    "Get the number of users to migrate:"
   ]
  },
  {
   "cell_type": "code",
   "execution_count": 4,
   "metadata": {},
   "outputs": [
    {
     "data": {
      "text/plain": [
       "49"
      ]
     },
     "execution_count": 4,
     "metadata": {},
     "output_type": "execute_result"
    }
   ],
   "source": [
    "len(source_users)"
   ]
  },
  {
   "cell_type": "markdown",
   "metadata": {},
   "source": [
    "Get the list of users already present in the target portal. Similar to earlier, filter out system and initial administrator accounts. The name of the admin account on target portal is `admin` as well in this example."
   ]
  },
  {
   "cell_type": "code",
   "execution_count": 5,
   "metadata": {},
   "outputs": [
    {
     "data": {
      "text/plain": [
       "[]"
      ]
     },
     "execution_count": 5,
     "metadata": {},
     "output_type": "execute_result"
    }
   ],
   "source": [
    "# filter out system and initial administrator accounts\n",
    "target_users = target.users.search('!esri_ & !admin & !system_publisher')\n",
    "target_users"
   ]
  },
  {
   "cell_type": "markdown",
   "metadata": {},
   "source": [
    "If users found on source portal were already in the target portal, run the following code to delete them. You can choose to not delete them as well.\n",
    "\n",
    "### Remove existing users from target portal\n",
    "If you want to clean up the target portal except for the initial administrator account, run the cell below. As you delete, you may opt to assign their content to the initial administrator account."
   ]
  },
  {
   "cell_type": "code",
   "execution_count": 6,
   "metadata": {},
   "outputs": [],
   "source": [
    "for source_user in source_users:\n",
    "    try:\n",
    "        target_user = target.users.get(source_user.username)\n",
    "        if target_user is not None:\n",
    "            print('Deleting user: ' + target_user.fullName)\n",
    "            target_user.reassign_to(target_admin_username)\n",
    "            target_user.delete()\n",
    "    except:\n",
    "        print('User {} does not exist in Target Portal'.format(source_user.username))"
   ]
  },
  {
   "cell_type": "markdown",
   "metadata": {},
   "source": [
    "### Copy Users\n",
    "Create a function that will accept connection to the target portal, `User` objects from source portal and password to create users with. In addition to creating the users, this function will set their access, description, tags and other similar properties from source. If a user by the same name already exists in the target portal (possible if you opted not to clean out the target portal) then this function prints out an error message."
   ]
  },
  {
   "cell_type": "code",
   "execution_count": 7,
   "metadata": {},
   "outputs": [],
   "source": [
    "def copy_user(target_portal, source_user, password):\n",
    "    # See if the user has firstName and lastName properties\n",
    "    try:\n",
    "        first_name = source_user.firstName\n",
    "        last_name = source_user.lastName\n",
    "    except:\n",
    "        # if not, split the fullName\n",
    "        full_name = source_user.fullName\n",
    "        first_name = full_name.split()[0]\n",
    "        try:\n",
    "            last_name = full_name.split()[1]\n",
    "        except:\n",
    "            last_name = 'NoLastName'\n",
    "\n",
    "    try:\n",
    "        # create user\n",
    "        target_user = target_portal.users.create(source_user.username, password, first_name, \n",
    "                                                 last_name, source_user.email, \n",
    "                                                 source_user.description, source_user.role)\n",
    "\n",
    "        # update user properties\n",
    "        target_user.update(source_user.access, source_user.preferredView,\n",
    "                           source_user.description, source_user.tags, \n",
    "                           source_user.get_thumbnail_link(),\n",
    "                           culture=source_user.culture, region=source_user.region)\n",
    "        return target_user\n",
    "    \n",
    "    except Exception as Ex:\n",
    "        print(str(Ex))\n",
    "        print(\"Unable to create user \"+ source_user.username)\n",
    "        return None"
   ]
  },
  {
   "cell_type": "markdown",
   "metadata": {},
   "source": [
    "For each user in source portal, make a corresponding user in target portal. In this sample, we provide a common password to all users `TestPassword@123` as we are creating users off the built-in identity store. If you are creating users off your enterprise identity store, you can ignore the `password` parameter and use the `provider` and `idp_username` parameters as explained in the [API reference doc](http://esri.github.io/arcgis-python-api/apidoc/html/arcgis.gis.html#arcgis.gis.UserManager.create)."
   ]
  },
  {
   "cell_type": "code",
   "execution_count": 8,
   "metadata": {
    "scrolled": true
   },
   "outputs": [
    {
     "name": "stdout",
     "output_type": "stream",
     "text": [
      "Creating user: astauffer\n",
      "Creating user: bob648@esri.com\n",
      "Creating user: cdufault\n",
      "Creating user: chri5464@esri.com\n",
      "Creating user: cloveman\n",
      "Creating user: daryl_smith\n",
      "Creating user: dcribbs\n",
      "Creating user: eguido\n",
      "Creating user: emccartney\n",
      "Creating user: gdmatthews\n",
      "Creating user: geor5599\n",
      "Creating user: hlestinsky\n",
      "Creating user: James_Jones\n",
      "Creating user: jawamboldt\n",
      "Creating user: jere5888@esri.com\n",
      "Creating user: jjkosovich\n",
      "Creating user: jmirmelstein\n",
      "Creating user: jmoore\n",
      "Creating user: jose3913@esri.com\n",
      "Creating user: jose6588\n",
      "Creating user: jose6588@esri.com\n",
      "Creating user: jproctor\n",
      "Creating user: jxornelas\n",
      "Creating user: kafishburn\n",
      "Creating user: kcraun\n",
      "Creating user: kgallagher\n",
      "Creating user: KHocutt\n",
      "Creating user: lhansmann\n",
      "Creating user: lmoore\n",
      "Creating user: lrdavis\n",
      "Creating user: luci9322@esri.com\n",
      "Creating user: mberra\n",
      "Creating user: mgabriel\n",
      "Creating user: mtischler\n",
      "Creating user: NMayer\n",
      "Creating user: paul6271@esri.com\n",
      "Creating user: ravi8273@esri.com\n",
      "Creating user: rdollison\n",
      "Creating user: rpostolovski\n",
      "Creating user: ryan8810@esri.com\n",
      "Creating user: sbankston\n",
      "Creating user: sboyer\n",
      "Creating user: step8383@esri.com\n",
      "Creating user: Stephen.Zahniser\n",
      "Creating user: sudhirshrestha\n",
      "Creating user: swebinger\n",
      "Creating user: syeleswarapu\n",
      "Creating user: tlauver\n",
      "Creating user: wmarken\n"
     ]
    }
   ],
   "source": [
    "for user in source_users:\n",
    "    print(\"Creating user: \" + user.username)\n",
    "    copy_user(target, user, 'TestPassword@123')"
   ]
  },
  {
   "cell_type": "markdown",
   "metadata": {},
   "source": [
    "Verify that users have been added to target portal:"
   ]
  },
  {
   "cell_type": "code",
   "execution_count": 9,
   "metadata": {},
   "outputs": [
    {
     "data": {
      "text/plain": [
       "[<User username:astauffer>,\n",
       " <User username:bob648@esri.com>,\n",
       " <User username:cdufault>,\n",
       " <User username:chri5464@esri.com>,\n",
       " <User username:cloveman>,\n",
       " <User username:daryl_smith>,\n",
       " <User username:dcribbs>,\n",
       " <User username:eguido>,\n",
       " <User username:emccartney>,\n",
       " <User username:gdmatthews>,\n",
       " <User username:geor5599>,\n",
       " <User username:hlestinsky>,\n",
       " <User username:James_Jones>,\n",
       " <User username:jawamboldt>,\n",
       " <User username:jere5888@esri.com>,\n",
       " <User username:jjkosovich>,\n",
       " <User username:jmirmelstein>,\n",
       " <User username:jmoore>,\n",
       " <User username:jose3913@esri.com>,\n",
       " <User username:jose6588>,\n",
       " <User username:jose6588@esri.com>,\n",
       " <User username:jproctor>,\n",
       " <User username:jxornelas>,\n",
       " <User username:kafishburn>,\n",
       " <User username:kcraun>,\n",
       " <User username:kgallagher>,\n",
       " <User username:KHocutt>,\n",
       " <User username:lhansmann>,\n",
       " <User username:lmoore>,\n",
       " <User username:lrdavis>,\n",
       " <User username:luci9322@esri.com>,\n",
       " <User username:mberra>,\n",
       " <User username:mgabriel>,\n",
       " <User username:mtischler>,\n",
       " <User username:NMayer>,\n",
       " <User username:paul6271@esri.com>,\n",
       " <User username:portaladmin>,\n",
       " <User username:ravi8273@esri.com>,\n",
       " <User username:rdollison>,\n",
       " <User username:rpostolovski>,\n",
       " <User username:ryan8810@esri.com>,\n",
       " <User username:sbankston>,\n",
       " <User username:sboyer>,\n",
       " <User username:step8383@esri.com>,\n",
       " <User username:Stephen.Zahniser>,\n",
       " <User username:sudhirshrestha>,\n",
       " <User username:swebinger>,\n",
       " <User username:syeleswarapu>,\n",
       " <User username:tlauver>,\n",
       " <User username:wmarken>]"
      ]
     },
     "execution_count": 9,
     "metadata": {},
     "output_type": "execute_result"
    }
   ],
   "source": [
    "target_users = target.users.search()\n",
    "target_users"
   ]
  },
  {
   "cell_type": "markdown",
   "metadata": {},
   "source": [
    "Thus, users have been successfully added to the target portal"
   ]
  },
  {
   "cell_type": "markdown",
   "metadata": {},
   "source": [
    "# Groups"
   ]
  },
  {
   "cell_type": "markdown",
   "metadata": {},
   "source": [
    "List the groups in the source and target portals. Similar to how we searched for users, we will ignore the system created and default groups as they would be available on the target portal as well."
   ]
  },
  {
   "cell_type": "code",
   "execution_count": 10,
   "metadata": {},
   "outputs": [
    {
     "data": {
      "text/plain": [
       "[<Group title:\"Data\" owner:James_Jones>,\n",
       " <Group title:\"External Trails\" owner:jose6588@esri.com>,\n",
       " <Group title:\"Featured Maps and Apps\" owner:jmoore>,\n",
       " <Group title:\"Featured Maps and Apps\" owner:admin>,\n",
       " <Group title:\"Home Page\" owner:jose6588@esri.com>,\n",
       " <Group title:\"POD\" owner:jose6588@esri.com>,\n",
       " <Group title:\"Site Administration Group\" owner:mberra>,\n",
       " <Group title:\"Trails\" owner:jose6588@esri.com>]"
      ]
     },
     "execution_count": 10,
     "metadata": {},
     "output_type": "execute_result"
    }
   ],
   "source": [
    "# filter out system created groups\n",
    "source_groups = source.groups.search(\"!owner:esri_* & !Basemaps\")\n",
    "source_groups"
   ]
  },
  {
   "cell_type": "code",
   "execution_count": 11,
   "metadata": {},
   "outputs": [
    {
     "data": {
      "text/plain": [
       "[<Group title:\"Featured Maps and Apps\" owner:portaladmin>]"
      ]
     },
     "execution_count": 11,
     "metadata": {},
     "output_type": "execute_result"
    }
   ],
   "source": [
    "target_groups = target.groups.search(\"!owner:esri_* & !Basemaps\")\n",
    "target_groups"
   ]
  },
  {
   "cell_type": "markdown",
   "metadata": {},
   "source": [
    "If any of the groups from source are already in the target, run the following code to delete them. If the group belongs to any of default user accounts, don't delete it. This step is optional, you may choose to not delete those groups if you prefer to retain them as is."
   ]
  },
  {
   "cell_type": "code",
   "execution_count": 12,
   "metadata": {},
   "outputs": [
    {
     "name": "stdout",
     "output_type": "stream",
     "text": [
      "Cleaning up group Featured Maps and Apps in target Portal...\n"
     ]
    }
   ],
   "source": [
    "for tg in target_groups:\n",
    "    for sg in source_groups:\n",
    "        if sg.title == tg.title and (not tg.owner.startswith('esri_')):\n",
    "            print(\"Cleaning up group {} in target Portal...\".format(tg.title))\n",
    "            tg.delete()\n",
    "            break"
   ]
  },
  {
   "cell_type": "markdown",
   "metadata": {},
   "source": [
    "## Copy Groups\n",
    "\n",
    "Let us create a function that will clone the groups one at a time. As you call this function in a loop for each group, it reads the source group's properties, downloads thumbnail into a temporary file then creates a similar named group on target and applies those properties and thumbnail. If one of your portals is an organization on ArcGIS Online and other is an ArcGIS Enterprise, certain privacy properties need to be adapted. This function takes care of that. After creating the group, it finds which users were members of it and adds them appropriately."
   ]
  },
  {
   "cell_type": "code",
   "execution_count": 13,
   "metadata": {},
   "outputs": [],
   "source": [
    "import tempfile\n",
    "\n",
    "GROUP_COPY_PROPERTIES = ['title', 'description', 'tags', 'snippet', 'phone',\n",
    "                         'access', 'isInvitationOnly']\n",
    "\n",
    "def copy_group(target, source, source_group):\n",
    "    \n",
    "    with tempfile.TemporaryDirectory() as temp_dir:\n",
    "        try:\n",
    "            target_group = {}\n",
    "\n",
    "            for property_name in GROUP_COPY_PROPERTIES:\n",
    "                target_group[property_name] = source_group[property_name]\n",
    "\n",
    "            if source_group['access'] == 'org' and target.properties['portalMode'] == 'singletenant':\n",
    "                #cloning from ArcGIS Online to ArcGIS Enterprise\n",
    "                target_group['access'] = 'public'\n",
    "\n",
    "            elif source_group['access'] == 'public'\\\n",
    "                 and source.properties['portalMode'] == 'singletenant'\\\n",
    "                 and target.properties['portalMode'] == 'multitenant'\\\n",
    "                 and 'id' in target.properties:\n",
    "                    #cloning from ArcGIS Enterprise to ArcGIS Online org\n",
    "                    target_group['access'] = 'org'\n",
    "\n",
    "            # Download the thumbnail (if one exists)\n",
    "            thumbnail_file = None\n",
    "            if 'thumbnail' in group:\n",
    "                target_group['thumbnail'] = group.download_thumbnail(temp_dir)\n",
    "\n",
    "            # Create the group in the target portal\n",
    "            copied_group = target.groups.create_from_dict(target_group)\n",
    "\n",
    "            # Reassign all groups to correct owners, add users, and find shared items\n",
    "            members = group.get_members()\n",
    "            if not members['owner'] == target_admin_username:\n",
    "                copied_group.reassign_to(target_admin_username)\n",
    "            return copied_group\n",
    "        except:\n",
    "            print(\"Error creating \" + source_group['title'])"
   ]
  },
  {
   "cell_type": "markdown",
   "metadata": {},
   "source": [
    "For each group in source portal, make a corresponding group in target portal."
   ]
  },
  {
   "cell_type": "code",
   "execution_count": 14,
   "metadata": {},
   "outputs": [
    {
     "name": "stderr",
     "output_type": "stream",
     "text": [
      "Unable to reassign group.\n",
      "You already have a group named 'Data'. Try a different name.\n"
     ]
    },
    {
     "name": "stdout",
     "output_type": "stream",
     "text": [
      "Error creating Data\n"
     ]
    },
    {
     "name": "stderr",
     "output_type": "stream",
     "text": [
      "Unable to reassign group.\n",
      "You already have a group named 'External Trails'. Try a different name.\n"
     ]
    },
    {
     "name": "stdout",
     "output_type": "stream",
     "text": [
      "Error creating External Trails\n"
     ]
    },
    {
     "name": "stderr",
     "output_type": "stream",
     "text": [
      "Unable to reassign group.\n",
      "You already have a group named 'Featured Maps and Apps'. Try a different name.\n"
     ]
    },
    {
     "name": "stdout",
     "output_type": "stream",
     "text": [
      "Error creating Featured Maps and Apps\n"
     ]
    },
    {
     "name": "stderr",
     "output_type": "stream",
     "text": [
      "Unable to create group.\n",
      "You already have a group named 'Featured Maps and Apps'. Try a different name.\n"
     ]
    },
    {
     "name": "stdout",
     "output_type": "stream",
     "text": [
      "Error creating Featured Maps and Apps\n"
     ]
    },
    {
     "name": "stderr",
     "output_type": "stream",
     "text": [
      "Unable to reassign group.\n",
      "You already have a group named 'Home Page'. Try a different name.\n"
     ]
    },
    {
     "name": "stdout",
     "output_type": "stream",
     "text": [
      "Error creating Home Page\n"
     ]
    },
    {
     "name": "stderr",
     "output_type": "stream",
     "text": [
      "Unable to reassign group.\n",
      "You already have a group named 'POD'. Try a different name.\n"
     ]
    },
    {
     "name": "stdout",
     "output_type": "stream",
     "text": [
      "Error creating POD\n"
     ]
    },
    {
     "name": "stderr",
     "output_type": "stream",
     "text": [
      "Unable to reassign group.\n",
      "You already have a group named 'Site Administration Group'. Try a different name.\n"
     ]
    },
    {
     "name": "stdout",
     "output_type": "stream",
     "text": [
      "Error creating Site Administration Group\n"
     ]
    },
    {
     "name": "stderr",
     "output_type": "stream",
     "text": [
      "Unable to reassign group.\n",
      "You already have a group named 'Trails'. Try a different name.\n"
     ]
    },
    {
     "name": "stdout",
     "output_type": "stream",
     "text": [
      "Error creating Trails\n"
     ]
    }
   ],
   "source": [
    "from IPython.display import display\n",
    "for group in source_groups:\n",
    "    target_group = copy_group(target, source, group)\n",
    "    if target_group:\n",
    "        display(target_group)"
   ]
  },
  {
   "cell_type": "markdown",
   "metadata": {},
   "source": [
    "As you can see, we were able to add the groups with their thumbnails. Now let us verify that groups can be listed on the target portal:"
   ]
  },
  {
   "cell_type": "code",
   "execution_count": null,
   "metadata": {},
   "outputs": [],
   "source": [
    "target_groups = target.groups.search()\n",
    "target_groups"
   ]
  },
  {
   "cell_type": "markdown",
   "metadata": {},
   "source": [
    "With this part of the sample, we have successfully created users, groups and added the appropriate users to these groups. Thus, you can call the `get_members()` method one of the groups to view its members:"
   ]
  },
  {
   "cell_type": "code",
   "execution_count": null,
   "metadata": {},
   "outputs": [],
   "source": [
    "group1 = target_groups[0]\n",
    "group1.get_members()"
   ]
  },
  {
   "cell_type": "markdown",
   "metadata": {},
   "source": [
    "# Items"
   ]
  },
  {
   "cell_type": "markdown",
   "metadata": {},
   "source": [
    "Copying items consists of multiple steps as explained in the following section of the sample:\n",
    "\n",
    " 1. [For each user create a mapping of itemId to the `Item`](#For-each-user-create-a-mapping-of-itemId-to-the-Item)\n",
    " 2. [Prepare sharing information for each item](#Prepare-sharing-information-for-each-item)\n",
    "   1. [Print a mapping of item and its group membership](#Print-a-mapping-of-item-and-its-group-membership)\n",
    " 3. [Copy items one by one](#Copy-Items)\n",
    " 4. [Establish relationship between items](#establish-relationship-between-items)"
   ]
  },
  {
   "cell_type": "markdown",
   "metadata": {},
   "source": [
    "## For each user create a mapping of itemId to the `Item`\n",
    "Do this for every folder in the user's account on the source portal"
   ]
  },
  {
   "cell_type": "code",
   "execution_count": null,
   "metadata": {},
   "outputs": [],
   "source": [
    "source_items_by_id = {}\n",
    "for user in source_users:\n",
    "    num_items = 0\n",
    "    num_folders = 0\n",
    "    print(\"Collecting item ids for {}\".format(user.username), end=\"\\t\\t\")\n",
    "    user_content = user.items()\n",
    "    \n",
    "    # Get item ids from root folder first\n",
    "    for item in user_content:\n",
    "        num_items += 1\n",
    "        source_items_by_id[item.itemid] = item \n",
    "    \n",
    "    # Get item ids from each of the folders next\n",
    "    folders = user.folders\n",
    "    for folder in folders:\n",
    "        num_folders += 1\n",
    "        folder_items = user.items(folder=folder['title'])\n",
    "        for item in folder_items:\n",
    "            num_items += 1\n",
    "            source_items_by_id[item.itemid] = item\n",
    "    \n",
    "    print(\"Number of folders {} # Number of items {}\".format(str(num_folders), str(num_items)))"
   ]
  },
  {
   "cell_type": "markdown",
   "metadata": {},
   "source": [
    "Let us print the dictionary of `{item_id : Item object}`"
   ]
  },
  {
   "cell_type": "code",
   "execution_count": null,
   "metadata": {},
   "outputs": [],
   "source": [
    "source_items_by_id"
   ]
  },
  {
   "cell_type": "markdown",
   "metadata": {},
   "source": [
    "## Prepare sharing information for each item\n",
    "Using the dictionary we created above, find to which groups are each of the items shared to."
   ]
  },
  {
   "cell_type": "code",
   "execution_count": null,
   "metadata": {
    "scrolled": false
   },
   "outputs": [],
   "source": [
    "for group in source_groups:\n",
    "    #iterate through each item shared to the source group\n",
    "    for group_item in group.content():\n",
    "        try:\n",
    "            #get the item\n",
    "            item = source_items_by_id[group_item.itemid]\n",
    "            if item is not None:\n",
    "                if not 'groups'in item:\n",
    "                    item['groups'] = []\n",
    "                \n",
    "                #assign the target portal's corresponding group's name\n",
    "                item['groups'].append(group['title'])\n",
    "        except:\n",
    "            print(\"Cannot find item : \" + group_item.itemid)"
   ]
  },
  {
   "cell_type": "markdown",
   "metadata": {},
   "source": [
    "### Print a mapping of item and its group membership"
   ]
  },
  {
   "cell_type": "code",
   "execution_count": null,
   "metadata": {},
   "outputs": [],
   "source": [
    "for key in source_items_by_id.keys():\n",
    "    item = source_items_by_id[key]\n",
    "    print(\"\\n{:40s}\".format(item.title), end = \" # \")\n",
    "    if 'groups' in item:\n",
    "        print(item.access, end = \" # \")\n",
    "        print(item.groups, end = \"\")"
   ]
  },
  {
   "cell_type": "markdown",
   "metadata": {},
   "source": [
    "As we can see from above, some items are shared to a few groups while some are not."
   ]
  },
  {
   "cell_type": "markdown",
   "metadata": {
    "collapsed": true
   },
   "source": [
    "## Copy Items\n",
    "Below we define a function that you can call in a loop for each item in the dictionary we composed earlier. If the item is a text based item such as a Web Map or a file based item such as a layer package, it downloads the item's data to a temporary directory and uses that for creating the target item during cloning. You can find the [exhaustive list of different items](http://doc.arcgis.com/en/arcgis-online/reference/supported-items.htm) that you can upload to your portal and their corresponding item types from the [REST API documentation](http://resources.arcgis.com/en/help/arcgis-rest-api/index.html#/Items_and_item_types/02r3000000ms000000/). For brevity, this sample covers only a subset of those items. Note, if the item points to a web layer URL, the target item would also point to the same URL."
   ]
  },
  {
   "cell_type": "code",
   "execution_count": null,
   "metadata": {},
   "outputs": [],
   "source": [
    "TEXT_BASED_ITEM_TYPES = frozenset(['Web Map', 'Feature Service', 'Map Service','Web Scene',\n",
    "                                   'Image Service', 'Feature Collection', \n",
    "                                   'Feature Collection Template',\n",
    "                                   'Web Mapping Application', 'Mobile Application', \n",
    "                                   'Symbol Set', 'Color Set',\n",
    "                                   'Windows Viewer Configuration'])\n",
    "\n",
    "FILE_BASED_ITEM_TYPES = frozenset(['File Geodatabase','CSV', 'Image', 'KML', 'Locator Package',\n",
    "                                  'Map Document', 'Shapefile', 'Microsoft Word', 'PDF',\n",
    "                                  'Microsoft Powerpoint', 'Microsoft Excel', 'Layer Package',\n",
    "                                  'Mobile Map Package', 'Geoprocessing Package', 'Scene Package',\n",
    "                                  'Tile Package', 'Vector Tile Package'])\n",
    "\n",
    "ITEM_COPY_PROPERTIES = ['title', 'type', 'typeKeywords', 'description', 'tags',\n",
    "                        'snippet', 'extent', 'spatialReference', 'name',\n",
    "                        'accessInformation', 'licenseInfo', 'culture', 'url']"
   ]
  },
  {
   "cell_type": "markdown",
   "metadata": {},
   "source": [
    "We define the copy function for items below. This function gets the properties of the item from source and applies it to the target. If the items were saved inside a folder, it creates that folder on the target as well. Finally, it sets the privacy (sharing) properties similar to how it was on the source portal."
   ]
  },
  {
   "cell_type": "code",
   "execution_count": null,
   "metadata": {},
   "outputs": [],
   "source": [
    "def copy_item(target, source_item):\n",
    "    try:\n",
    "        if True:\n",
    "            temp_dir = r'/Users/jame9353/Documents/temp_data/portal_copy'\n",
    "            item_properties = {}\n",
    "            for property_name in ITEM_COPY_PROPERTIES:\n",
    "                item_properties[property_name] = source_item[property_name]\n",
    "\n",
    "            data_file = None\n",
    "            \n",
    "            if source_item.type in TEXT_BASED_ITEM_TYPES:\n",
    "                # If its a text-based item, then read the text and add it to the request.\n",
    "                text = source_item.get_data(False)\n",
    "                item_properties['text'] = text\n",
    "            \n",
    "            elif source_item.type in FILE_BASED_ITEM_TYPES:\n",
    "                print(source_item.type)\n",
    "                # download data and add to the request as a file\n",
    "                #data_file = source_item.download(temp_dir)\n",
    "\n",
    "            #thumbnail_file = source_item.download_thumbnail(temp_dir)\n",
    "            #metadata_file = source_item.download_metadata(temp_dir)\n",
    "            \"\"\"\n",
    "            #find item's owner\n",
    "            source_item_owner = source.users.search(source_item.owner)[0]\n",
    "            \n",
    "            #find item's folder\n",
    "            item_folder_titles = [f['title'] for f in source_item_owner.folders \n",
    "                                  if f['id'] == source_item.ownerFolder]\n",
    "            folder_name = None\n",
    "            if len(item_folder_titles) > 0:\n",
    "                folder_name = item_folder_titles[0]\n",
    "\n",
    "            #if folder does not exist for target user, create it\n",
    "            if folder_name:\n",
    "                target_user = target.users.search(source_item.owner)[0]\n",
    "                target_user_folders = [f['title'] for f in target_user.folders\n",
    "                                       if f['title'] == folder_name]\n",
    "                if len(target_user_folders) == 0:\n",
    "                    #create the folder\n",
    "                    target.content.create_folder(folder_name, source_item.owner)\n",
    "            \n",
    "            # Add the item to the target portal, assign owner and folder\n",
    "            target_item = target.content.add(item_properties, data_file, thumbnail_file, \n",
    "                                             metadata_file, source_item.owner, folder_name)\n",
    "            \n",
    "            #Set sharing (privacy) information\n",
    "            share_everyone = source_item.access == 'public'\n",
    "            share_org = source_item.access in ['org', 'public']\n",
    "            share_groups = []\n",
    "            if source_item.access == 'shared':\n",
    "                share_groups = source_item.groups\n",
    "            \n",
    "            target_item.share(share_everyone, share_org, share_groups)\n",
    "            \n",
    "            return target_item\n",
    "            \"\"\"\n",
    "    except Exception as copy_ex:\n",
    "        print(\"\\tError copying \" + source_item.title)\n",
    "        print(\"\\t\" + str(copy_ex))\n",
    "        return None"
   ]
  },
  {
   "cell_type": "markdown",
   "metadata": {},
   "source": [
    "Copy over each item. While doing so, construct a dictionary mapping of source item's ID with target item's ID"
   ]
  },
  {
   "cell_type": "code",
   "execution_count": null,
   "metadata": {},
   "outputs": [],
   "source": [
    "source_target_itemId_map = {}\n",
    "for key in source_items_by_id.keys():\n",
    "    source_item = source_items_by_id[key]\n",
    "    print(source_item.type)\n",
    "\n",
    "    #print(\"Copying {} \\tfor\\t {}\".format(source_item.title, source_item.owner))\n",
    "    target_item = copy_item(target, source_item)\n",
    "    if target_item:\n",
    "        source_target_itemId_map[key] = target_item.itemid\n",
    "    else:\n",
    "        source_target_itemId_map[key] = None"
   ]
  },
  {
   "cell_type": "markdown",
   "metadata": {},
   "source": [
    "We have successfully cloned all the items from source to target. We can query the contents of one of the users below to verify:"
   ]
  },
  {
   "cell_type": "code",
   "execution_count": null,
   "metadata": {},
   "outputs": [],
   "source": [
    "user1 = target.users.search()[10]\n",
    "user1"
   ]
  },
  {
   "cell_type": "code",
   "execution_count": null,
   "metadata": {},
   "outputs": [],
   "source": [
    "user1.items()"
   ]
  },
  {
   "cell_type": "markdown",
   "metadata": {},
   "source": [
    "We could query the folders belonging to this user and the items within as well"
   ]
  },
  {
   "cell_type": "code",
   "execution_count": null,
   "metadata": {},
   "outputs": [],
   "source": [
    "user1.folders"
   ]
  },
  {
   "cell_type": "code",
   "execution_count": null,
   "metadata": {},
   "outputs": [],
   "source": [
    "user1.items(folder=user1.folders[0]['title'])"
   ]
  },
  {
   "cell_type": "markdown",
   "metadata": {},
   "source": [
    "## Establish relationship between items\n",
    "\n",
    "So far, we have successfully cloned users, groups and items from source to target. Next, we will establish identical [relationships](http://resources.arcgis.com/en/help/arcgis-rest-api/index.html#/Relationship_types/02r3000000mm000000/) between items as they were in the source portal."
   ]
  },
  {
   "cell_type": "code",
   "execution_count": null,
   "metadata": {},
   "outputs": [],
   "source": [
    "RELATIONSHIP_TYPES = frozenset(['Map2Service', 'WMA2Code',\n",
    "                                'Map2FeatureCollection', 'MobileApp2Code', 'Service2Data',\n",
    "                                'Service2Service'])"
   ]
  },
  {
   "cell_type": "markdown",
   "metadata": {},
   "source": [
    "Below, we loop through each item in source portal, find to which other item it is related and the type of that relationship. If a relationship is found, we find the corresponding items in target and establish the same relationship. To make this work, we will make use of the dictionary that maps the itemIds on source and target we created during the item clone stage. Let us take a look at that dictionary below:"
   ]
  },
  {
   "cell_type": "code",
   "execution_count": null,
   "metadata": {},
   "outputs": [],
   "source": [
    "source_target_itemId_map"
   ]
  },
  {
   "cell_type": "code",
   "execution_count": null,
   "metadata": {},
   "outputs": [],
   "source": [
    "for key in source_target_itemId_map.keys():\n",
    "    source_item = source_items_by_id[key]\n",
    "    target_itemid = source_target_itemId_map[key]\n",
    "    target_item = target.content.get(target_itemid)\n",
    "\n",
    "    print(source_item.title + \" # \" + source_item.type)\n",
    "    for relationship in RELATIONSHIP_TYPES:\n",
    "        try:\n",
    "            source_related_items = source_item.related_items(relationship)\n",
    "            for source_related_item in source_related_items:\n",
    "                print(\"\\t\\t\" + source_related_item.title + \" # \" + \n",
    "                      source_related_item.type +\"\\t## \" + relationship)\n",
    "\n",
    "                #establish same relationship amongst target items\n",
    "                print(\"\\t\\t\" + \"establishing relationship in target portal\", end=\" \")\n",
    "                target_related_itemid = source_target_itemId_map[source_related_item.itemid]\n",
    "                target_related_item = target.content.get(target_related_itemid)\n",
    "                status = target_item.add_relationship(target_related_item, relationship)\n",
    "                print(str(status))\n",
    "        except Exception as rel_ex:\n",
    "            print(\"\\t\\t Error when checking for \" + relationship + \" : \" + str(rel_ex))\n",
    "            continue"
   ]
  },
  {
   "cell_type": "markdown",
   "metadata": {},
   "source": [
    "## Conclusion\n",
    "Thus, with this notebook, we have successfully cloned groups, users and their contents. Note, this notebook did not copy over the services that power the service based items. Such items continue to point to the same URL as the ones in source portal did. As long as those URLs remain accessible, the web maps and layer items continue to be usable.\n",
    "\n",
    "To run this notebook as a Python script, checkout the Python scripts in the accompanying [SDK GitHub](https://github.com/Esri/arcgis-python-api/tree/master/samples/03_org_administrators) repository."
   ]
  }
 ],
 "metadata": {
  "kernelspec": {
   "display_name": "Python 3",
   "language": "python",
   "name": "python3"
  },
  "language_info": {
   "codemirror_mode": {
    "name": "ipython",
    "version": 3
   },
   "file_extension": ".py",
   "mimetype": "text/x-python",
   "name": "python",
   "nbconvert_exporter": "python",
   "pygments_lexer": "ipython3",
   "version": "3.6.8"
  }
 },
 "nbformat": 4,
 "nbformat_minor": 1
}
